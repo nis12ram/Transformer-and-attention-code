{
  "nbformat": 4,
  "nbformat_minor": 0,
  "metadata": {
    "colab": {
      "provenance": []
    },
    "kernelspec": {
      "name": "python3",
      "display_name": "Python 3"
    },
    "language_info": {
      "name": "python"
    }
  },
  "cells": [
    {
      "cell_type": "code",
      "execution_count": 1,
      "metadata": {
        "id": "_ZJ3y1VWzURG"
      },
      "outputs": [],
      "source": [
        "import numpy as np\n",
        "import torch\n",
        "import torch.nn as nn\n",
        "import torch.nn.functional as f\n"
      ]
    },
    {
      "cell_type": "code",
      "source": [
        "class MultiHeadAttention(nn.Module):\n",
        "  def __init__(self,input_dim,sequence_length,d_model,num_heads,batch_size):\n",
        "    super().__init__()\n",
        "    self.input_dim = input_dim\n",
        "    self.sequence_length = sequence_length\n",
        "    self.batch_size = batch_size\n",
        "    self.d_model = d_model\n",
        "    self.num_heads = num_heads\n",
        "    self.head_dims = self.d_model // self.num_heads # head_dims = d_k(dimension of key vector) = d_v(dimension of value vector)\n",
        "    self.qkv_layer = nn.Linear(in_features=self.input_dim,out_features=3*self.d_model)\n",
        "    self.linear_layer = nn.Linear(in_features=self.d_model,out_features=self.d_model)\n",
        "\n",
        "  def scaled_dot_product_attention(self,q,k,v,mask = None):\n",
        "    d_k = self.head_dims\n",
        "    scaled = torch.matmul(q,k.transpose(-2,-1)) / np.sqrt(d_k)  # shape (batch_size,num_heads,num_queries,num_kv) (num_queries == num_kv)\n",
        "    if (mask is not None):\n",
        "      scaled += mask\n",
        "    attention = f.softmax(scaled,dim = -1) # shape (batch_size,num_heads,num_queries,num_kv) (num_queries == num_kv)\n",
        "    values = torch.matmul(attention,v) # shape (batch_size,num_heads,num_queries,head_dims) (head_dims = d_v)\n",
        "    return values,attention\n",
        "\n",
        "\n",
        "\n",
        "  def forward(self,x,mask = None):\n",
        "    qkv = self.qkv_layer(x) # shape (batch_size,num_queries,3*d_model)\n",
        "    qkv = qkv.reshape(self.batch_size,self.sequence_length,self.num_heads,3*self.head_dims) # shape (batch_size,num_queries,num_heads,3*head_dims)\n",
        "    qkv = torch.permute(qkv,(0,2,1,3))  # shape (batch_size,num_heads,num_queries,3*head_dims)\n",
        "    q,k,v = torch.chunk(qkv,3,dim= -1)  # each shape (batch_size,num_heads,num_queries,head_dims)\n",
        "    values,attention = self.scaled_dot_product_attention(q,k,v,mask = mask)\n",
        "    values = values.reshape(self.batch_size,self.sequence_length,self.head_dims * self.num_heads) # shape (batch_size,num_queries,head_dims * num_heads)\n",
        "    out = self.linear_layer(values) # shape (batch_size,num_queries,d_model)\n",
        "    return out\n",
        "\n",
        "\n",
        "\n"
      ],
      "metadata": {
        "id": "uhqSFtVU4GT_"
      },
      "execution_count": 2,
      "outputs": []
    },
    {
      "cell_type": "code",
      "source": [
        "batch_size = 32\n",
        "sequence_length = 20\n",
        "input_dim = 250\n",
        "d_model = 512\n",
        "num_heads = 8\n",
        "x = torch.randn((batch_size,sequence_length,input_dim)) ## (batch_size,num_queries,emb_dim)\n"
      ],
      "metadata": {
        "id": "2HXsyHsMC0CU"
      },
      "execution_count": 3,
      "outputs": []
    },
    {
      "cell_type": "code",
      "source": [
        "case1 = MultiHeadAttention(input_dim,sequence_length,d_model,num_heads,batch_size)\n",
        "out2 = case1(x)\n",
        "out2.size()"
      ],
      "metadata": {
        "colab": {
          "base_uri": "https://localhost:8080/"
        },
        "id": "1cnd91G34GZs",
        "outputId": "0a9eac23-e075-4341-8b08-466bacb3f45f"
      },
      "execution_count": 4,
      "outputs": [
        {
          "output_type": "execute_result",
          "data": {
            "text/plain": [
              "torch.Size([32, 20, 512])"
            ]
          },
          "metadata": {},
          "execution_count": 4
        }
      ]
    },
    {
      "cell_type": "code",
      "source": [
        "out2[0][0][:20]"
      ],
      "metadata": {
        "colab": {
          "base_uri": "https://localhost:8080/"
        },
        "id": "PbAVTzNFGn22",
        "outputId": "64bd8931-ba05-4f98-c7cb-1a3d2e4d934a"
      },
      "execution_count": 6,
      "outputs": [
        {
          "output_type": "execute_result",
          "data": {
            "text/plain": [
              "tensor([-0.0318, -0.0378,  0.0708,  0.0550,  0.0378,  0.1422, -0.2409, -0.0942,\n",
              "         0.0319, -0.0276, -0.0042, -0.0161, -0.0702,  0.1295,  0.0467,  0.0841,\n",
              "         0.0282,  0.1663, -0.1363,  0.0547], grad_fn=<SliceBackward0>)"
            ]
          },
          "metadata": {},
          "execution_count": 6
        }
      ]
    }
  ]
}