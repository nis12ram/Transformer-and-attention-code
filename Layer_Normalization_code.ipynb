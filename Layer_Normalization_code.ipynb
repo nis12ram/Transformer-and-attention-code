{
  "nbformat": 4,
  "nbformat_minor": 0,
  "metadata": {
    "colab": {
      "provenance": []
    },
    "kernelspec": {
      "name": "python3",
      "display_name": "Python 3"
    },
    "language_info": {
      "name": "python"
    }
  },
  "cells": [
    {
      "cell_type": "code",
      "execution_count": 27,
      "metadata": {
        "id": "_uM3iHlzBTTQ"
      },
      "outputs": [],
      "source": [
        "import torch\n",
        "from torch import nn"
      ]
    },
    {
      "cell_type": "code",
      "source": [
        "inputs = torch.Tensor([[[0.2,0.1,0.3],[0.5,0.1,0.1]]])\n",
        "B,S,E = inputs.size() #(batch_size,num_queries,emb_dim)\n",
        "inputs = inputs.reshape(S,B,E)  #(num_queries,batch_size,emb_dim)\n",
        "inputs.size()"
      ],
      "metadata": {
        "colab": {
          "base_uri": "https://localhost:8080/"
        },
        "id": "SCH2J6P1BoSf",
        "outputId": "5e38bd1d-c8e8-4719-f7d1-cd25ac30a9ac"
      },
      "execution_count": 28,
      "outputs": [
        {
          "output_type": "execute_result",
          "data": {
            "text/plain": [
              "torch.Size([2, 1, 3])"
            ]
          },
          "metadata": {},
          "execution_count": 28
        }
      ]
    },
    {
      "cell_type": "code",
      "source": [
        "class LayerNormalization():\n",
        "  def __init__(self,parameter_shape,eps = 1e-5):\n",
        "    self.parameter_shape = parameter_shape\n",
        "    self.eps = eps\n",
        "    self.gamma = nn.Parameter(torch.ones(self.parameter_shape))\n",
        "    self.beta = nn.Parameter(torch.zeros(self.parameter_shape))\n",
        "  def forward(self,inpust):\n",
        "    dims = [-(i+1) for i in range(len(self.parameter_shape))]\n",
        "    mean = torch.mean(inputs,dim = dims,keepdim = True)\n",
        "    var = ((inputs-mean)**2).mean(dim = dims,keepdim = True)\n",
        "    std = torch.sqrt(var+self.eps)\n",
        "    y = (inputs-mean)/std\n",
        "    out = self.gamma * y + self.beta\n",
        "    return out\n",
        "\n"
      ],
      "metadata": {
        "id": "UpUg58ixQXFx"
      },
      "execution_count": 29,
      "outputs": []
    },
    {
      "cell_type": "code",
      "source": [
        "parameter_shape = inputs.size()[-2:]"
      ],
      "metadata": {
        "id": "5z3myDjuWtr8"
      },
      "execution_count": 30,
      "outputs": []
    },
    {
      "cell_type": "code",
      "source": [
        "case1 = LayerNormalization(parameter_shape)\n",
        "case1.forward(inputs)"
      ],
      "metadata": {
        "colab": {
          "base_uri": "https://localhost:8080/"
        },
        "id": "nEceGxIKSqL4",
        "outputId": "8d8dd066-f7f9-4403-9c57-8fa50047e965"
      },
      "execution_count": 31,
      "outputs": [
        {
          "output_type": "execute_result",
          "data": {
            "text/plain": [
              "tensor([[[ 0.0000, -1.2238,  1.2238]],\n",
              "\n",
              "        [[ 1.4140, -0.7070, -0.7070]]], grad_fn=<AddBackward0>)"
            ]
          },
          "metadata": {},
          "execution_count": 31
        }
      ]
    }
  ]
}