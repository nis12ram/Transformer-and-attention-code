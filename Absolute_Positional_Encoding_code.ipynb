{
  "cells": [
    {
      "cell_type": "code",
      "execution_count": 1,
      "metadata": {
        "id": "iXZou0PHOCQk"
      },
      "outputs": [],
      "source": [
        "import torch\n",
        "import torch.nn as nn\n",
        "\n",
        "max_sequence_length = 10\n",
        "d_model = 6"
      ]
    },
    {
      "cell_type": "code",
      "execution_count": 25,
      "metadata": {
        "id": "ELEfzG0SKrL1"
      },
      "outputs": [],
      "source": [
        "class AbsolutePositionalEncoding(nn.Module):\n",
        "  def __init__(self,d_model,max_sequence_length):\n",
        "    super().__init__()\n",
        "    self.d_model = d_model\n",
        "    self.max_sequence_length = max_sequence_length\n",
        "  def forward(self):\n",
        "    even_i = torch.arange(0,self.d_model,2)  # shape (d_model/2)\n",
        "    denominator = torch.pow(10000,even_i/self.d_model).reshape(1,self.d_model//2) # shape (1,d_model//2)\n",
        "    denominator = torch.reciprocal(denominator) # shape (1,d_model//2)\n",
        "    position = torch.arange(self.max_sequence_length,dtype = torch.float).reshape(self.max_sequence_length,1) # shape (num_queries,1)\n",
        "    angle_values = torch.matmul(position,denominator) # shape (num_queries,d_model//2)\n",
        "    even_PE = torch.sin(angle_values) # shape (num_queries,d_model//2)\n",
        "    odd_PE = torch.cos(angle_values)  # shape (num_queries,d_model//2)\n",
        "    stacked = torch.stack([even_PE,odd_PE],dim = -1)  # shape (num_queries,d_model//2,2)\n",
        "    PE = torch.reshape(stacked,(self.max_sequence_length,self.d_model)) # shape (max_sequence_length,d_model)\n",
        "    return PE\n"
      ]
    },
    {
      "cell_type": "code",
      "execution_count": null,
      "metadata": {
        "id": "iV2rATQbKquv"
      },
      "outputs": [],
      "source": [
        "pe = AbsolutePositionalEncoding(d_model,max_sequence_length)\n",
        "out = pe.forward()\n",
        "out"
      ]
    }
  ],
  "metadata": {
    "colab": {
      "provenance": []
    },
    "kernelspec": {
      "display_name": "Python 3",
      "name": "python3"
    },
    "language_info": {
      "name": "python"
    }
  },
  "nbformat": 4,
  "nbformat_minor": 0
}
